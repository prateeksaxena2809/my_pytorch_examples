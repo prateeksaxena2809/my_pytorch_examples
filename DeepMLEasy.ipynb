{
 "cells": [
  {
   "cell_type": "markdown",
   "id": "445fb6b7",
   "metadata": {},
   "source": [
    "## Download the necessary libraries\n",
    "- Numpy: for array creation, inv, transpose and matrix multiplication\n",
    "- math: here for exp(used in sigmoid)"
   ]
  },
  {
   "cell_type": "code",
   "execution_count": null,
   "id": "8bbab15e",
   "metadata": {},
   "outputs": [],
   "source": [
    "import numpy as np\n",
    "import math"
   ]
  },
  {
   "cell_type": "markdown",
   "id": "68d7f5f7",
   "metadata": {},
   "source": [
    "**Question 1:** Matrix times Vector(solve without numpy)\n",
    "\n",
    "Multiply a matrix of dimensions (m,n) with a vector of n dimensions."
   ]
  },
  {
   "cell_type": "code",
   "execution_count": null,
   "id": "2fa14125",
   "metadata": {},
   "outputs": [],
   "source": [
    "def matrix_dot_vector(a:list[list[int|float]],b:list[int|float])-> list[int|float]:\n",
    "    matrix_row_size=len(a)\n",
    "    matrix_column_size=len(a[0]) if len(a)>0 else 0\n",
    "    vector_size=len(b)\n",
    "    if matrix_column_size!=vector_size or vector_size==0:\n",
    "        return -1\n",
    "    c=[sum([a1*b1 for a1,b1 in zip(row,b)]) for row in a]\n",
    "    return c"
   ]
  },
  {
   "cell_type": "markdown",
   "id": "a876a3b1",
   "metadata": {},
   "source": [
    "**Question 2:** Linear Regression Using Normal Equation (solve using numpy)\n",
    "\n",
    "X$\\theta$=y\n",
    "\n",
    "$X_{T}$$X\\theta$= $X_{T}$y\n",
    "\n",
    "$(X_{T}X)$<sup>-1</sup>$X_{T}$$X\\theta$=$(X_{T}X)$<sup>-1</sup> $X_{T}$y\n",
    "\n",
    "$(X_{T}X)$<sup>-1</sup>($X_{T}X$)$\\theta$=$(X_{T}X)$<sup>-1</sup> $X_{T}$y\n",
    "\n",
    "$\\theta$=$(X_{T}X)$<sup>-1</sup> $X_{T}$y"
   ]
  },
  {
   "cell_type": "code",
   "execution_count": null,
   "id": "57ae0690",
   "metadata": {},
   "outputs": [],
   "source": [
    "def linear_regression_normal_equation(X: list[list[float]], y: list[float]) -> list[float]:\n",
    "    X=np.array(X)\n",
    "    y=np.array(y).reshape(-1,1)\n",
    "    X_t=X.T\n",
    "    theta=np.linalg.inv(X_t @ X) @ X_t @ y\n",
    "    theta=np.round(theta,4).flatten().tolist()\n",
    "    return theta"
   ]
  },
  {
   "cell_type": "markdown",
   "id": "058d9b0c",
   "metadata": {},
   "source": [
    "**Question 3:** Linear Regression Using Gradient Descent (solve using numpy)\n",
    "\n",
    "Steps\n",
    "- Get the dimensions correct for each variable\n",
    "    - X => (data points, features)\n",
    "    - y => (data points, 1), direct conversion of y to np.array creates a (data points,) 1D tensor, make sure to create a 2D using reshape\n",
    "    - theta => (features, 1)\n",
    "- Initialize theta\n",
    "- for each iteration of given no. of iterations\n",
    "    - calculate pred = X * theta\n",
    "    - calculate diff = pred - y\n",
    "    - calculate change = X$_T$ * diff\n",
    "    - average_change over data points => change/data points\n",
    "    - theta = theta - alpha * average_change\n",
    "- round off theta as per the question\n",
    "    "
   ]
  },
  {
   "cell_type": "code",
   "execution_count": null,
   "id": "e5b45d03",
   "metadata": {},
   "outputs": [],
   "source": [
    "def linear_regression_gradient_descent(X: np.ndarray, y: np.ndarray, alpha: float, iterations: int) -> np.ndarray:\n",
    "    m, n = X.shape\n",
    "    theta = np.zeros((n, 1))\n",
    "    y=y.reshape(-1,1)\n",
    "    for _ in range(iterations):\n",
    "        pred = X @ theta\n",
    "        diff = pred - y\n",
    "        change = X.T @ diff\n",
    "        average_change = change/m\n",
    "        theta-=alpha*average_change\n",
    "    theta=np.round(theta,4).flatten()\n",
    "    return theta"
   ]
  },
  {
   "cell_type": "markdown",
   "id": "bd92feb5",
   "metadata": {},
   "source": [
    "**Question 4:** Feature Scaling Implementation (solve using Numpy)\n",
    "\n",
    "Return two versions of feature scaling\n",
    "\n",
    "1. standardized_data : Convert each column distribution to a standard distribution i.e. mean=0 and stdev=1. To achieve that, for each value in column, subtract column mean and divide by column standard deviation.\n",
    "\n",
    "2. normalized_data : Convert each column dostribution to a normalized distribution i.e. min=0 and max=1. To achieve that, for each value in column, subtract column min and divide by column max - column min\n",
    "\n",
    "Dont forget to round off\n"
   ]
  },
  {
   "cell_type": "code",
   "execution_count": null,
   "id": "2444b5fb",
   "metadata": {},
   "outputs": [],
   "source": [
    "def feature_scaling(data: np.ndarray) -> (np.ndarray, np.ndarray):\n",
    "    mean=np.mean(data,axis=0)\n",
    "    std=np.std(data,axis=0)\n",
    "    standardized_data=(data-mean)/std\n",
    "    standardized_data=np.round(standardized_data,4)\n",
    "    \n",
    "    max=np.max(data,axis=0)\n",
    "    min=np.min(data,axis=0)\n",
    "    normalized_data=(data-min)/(max-min)\n",
    "    normalized_data=np.round(normalized_data,4)\n",
    "    return standardized_data, normalized_data"
   ]
  },
  {
   "cell_type": "markdown",
   "id": "a6cfc52a",
   "metadata": {},
   "source": [
    "**Question 5:** Transpose of a Matrix (solve without numpy)"
   ]
  },
  {
   "cell_type": "code",
   "execution_count": null,
   "id": "62d49312",
   "metadata": {},
   "outputs": [],
   "source": [
    "def transpose_matrix(a: list[list[int|float]]) -> list[list[int|float]]:\n",
    "    return [list(i) for i in zip(*a)]"
   ]
  },
  {
   "cell_type": "markdown",
   "id": "d2091ef6",
   "metadata": {},
   "source": [
    "**Question 6:** Sigmoid Activation Function (need to use math)"
   ]
  },
  {
   "cell_type": "code",
   "execution_count": null,
   "id": "995be146",
   "metadata": {},
   "outputs": [],
   "source": [
    "def sigmoid(z: float) -> float:\n",
    "    result=1/(1+math.exp(-z))\n",
    "    result=round(result,4)\n",
    "    return result"
   ]
  },
  {
   "cell_type": "markdown",
   "id": "c28484d0",
   "metadata": {},
   "source": [
    "**Question 7:** Softmax Activation Function (solve without numpy)"
   ]
  },
  {
   "cell_type": "code",
   "execution_count": null,
   "id": "a7a7b09f",
   "metadata": {},
   "outputs": [],
   "source": [
    "def softmax(scores: list[float]) -> list[float]:\n",
    "    scores=[math.exp(k) for k in scores]\n",
    "    m=sum(scores)\n",
    "    probabilities=[round(k/m,4) for k in scores]\n",
    "    return probabilities"
   ]
  },
  {
   "cell_type": "markdown",
   "id": "cb35517a",
   "metadata": {},
   "source": [
    "**Question 8:** Single Neuron (solve without numpy)\n",
    "\n",
    "Implement a single neuron functionality and return probabilities and mean squared error\n",
    "\n",
    "- Calculate probabilites using features, weights and bias\n",
    "- Calculate mean square error using probabilities and labels\n"
   ]
  },
  {
   "cell_type": "code",
   "execution_count": null,
   "id": "d7c31055",
   "metadata": {},
   "outputs": [],
   "source": [
    "def single_neuron_model(features: list[list[float]], labels: list[int], weights: list[float], bias: float) -> (list[float], float):\n",
    "    probabilities=[]\n",
    "    mse=0\n",
    "    m=len(features)\n",
    "    for feature,label in zip(features,labels):\n",
    "        prob=sum([f*w for f,w in zip(feature,weights)])\n",
    "        prob+=bias\n",
    "        prob=1/(1+math.exp(-prob))\n",
    "        probabilities.append(round(prob,4))\n",
    "        mse+=((label-prob)**2)\n",
    "    mse=round(mse/m,4)\n",
    "    return probabilities, mse"
   ]
  },
  {
   "cell_type": "markdown",
   "id": "eae65964",
   "metadata": {},
   "source": [
    "**Question 9:** Reshape Matrix"
   ]
  },
  {
   "cell_type": "code",
   "execution_count": null,
   "id": "df275668",
   "metadata": {},
   "outputs": [],
   "source": [
    "def reshape_matrix(a: list[list[int|float]], new_shape: tuple[int, int]) -> list[list[int|float]]:\n",
    "    reshaped_matrix=np.array(a).reshape(*new_shape).tolist()\n",
    "    return reshaped_matrix"
   ]
  },
  {
   "cell_type": "markdown",
   "id": "3029ccd4",
   "metadata": {},
   "source": [
    "**Question 10:** Calculate Mean by Row or Column"
   ]
  },
  {
   "cell_type": "code",
   "execution_count": null,
   "id": "a8a3a48c",
   "metadata": {},
   "outputs": [],
   "source": [
    "def calculate_matrix_mean(matrix: list[list[float]], mode: str) -> list[float]:\n",
    "    if mode==\"column\":\n",
    "        means=[sum(l)/len(l) for l in zip(*matrix)]\n",
    "    else:\n",
    "        means=[sum(l)/len(l) for l in matrix]\n",
    "    return means"
   ]
  },
  {
   "cell_type": "markdown",
   "id": "16560452",
   "metadata": {},
   "source": [
    "**Question 11:** Scalar Multiplication of a Matrix"
   ]
  },
  {
   "cell_type": "code",
   "execution_count": null,
   "id": "47af9fbf",
   "metadata": {},
   "outputs": [],
   "source": [
    "def scalar_multiply(matrix: list[list[int|float]], scalar: int|float) -> list[list[int|float]]:\n",
    "    result=[[value*scalar for value in vector] for vector in matrix]\n",
    "    return result"
   ]
  }
 ],
 "metadata": {
  "kernelspec": {
   "display_name": "Python 3 (ipykernel)",
   "language": "python",
   "name": "python3"
  },
  "language_info": {
   "codemirror_mode": {
    "name": "ipython",
    "version": 3
   },
   "file_extension": ".py",
   "mimetype": "text/x-python",
   "name": "python",
   "nbconvert_exporter": "python",
   "pygments_lexer": "ipython3",
   "version": "3.9.13"
  }
 },
 "nbformat": 4,
 "nbformat_minor": 5
}
