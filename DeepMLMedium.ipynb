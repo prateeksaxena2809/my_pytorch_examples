{
 "cells": [
  {
   "cell_type": "markdown",
   "id": "adc4d731",
   "metadata": {},
   "source": [
    "## Download the necessary libraries\n",
    "- Numpy: for array creation, inv, transpose and matrix multiplication\n",
    "- math: here for exp(used in sigmoid)"
   ]
  },
  {
   "cell_type": "code",
   "execution_count": 31,
   "id": "e394a9a9",
   "metadata": {},
   "outputs": [],
   "source": [
    "import numpy as np\n",
    "import math"
   ]
  },
  {
   "cell_type": "markdown",
   "id": "c70674f6",
   "metadata": {},
   "source": [
    "**Question 1:** Calculate Covariance Matrix\n",
    "\n",
    "Given a matrix where each vector represents a feature i.e. same feature value for different data points, calculate the covariance matrix.\n",
    "\n",
    "A covariance matrix is a feature * feature matrix to represent how separate features interact with each other.\n",
    "\n",
    "\n",
    "\n",
    "Steps:\n",
    "- subtract feature means from values.\n",
    "- for each pair of features\n",
    "    - calculate the elementwise product.\n",
    "    - sum all the elementwise product.\n",
    "    - divide by number of data points.\n",
    "    \n",
    "**NOTE:** I will write two solutions for this problem, using numpy and without using numpy to provide a bridge to understand parallelization"
   ]
  },
  {
   "cell_type": "code",
   "execution_count": 17,
   "id": "4ebc7709",
   "metadata": {},
   "outputs": [],
   "source": [
    "# without using numpy\n",
    "def calculate_covariance_matrix(vectors: list[list[float]]) -> list[list[float]]:\n",
    "    means=[sum(feature_vector)/len(feature_vector) for feature_vector in vectors]\n",
    "    vectors=[[feature_value-means[i] for feature_value in feature_vector] for i,feature_vector in enumerate(vectors)]\n",
    "    covariance_matrix=[]\n",
    "    for i,vec1 in enumerate(vectors):\n",
    "        covariance_matrix.append([sum([vec1[k]*val for k,val in enumerate(vec2)])/(len(vectors[0])-1) for j,vec2 in enumerate(vectors)])\n",
    "    return covariance_matrix\n",
    "\n",
    "# using numpy\n",
    "def calculate_covariance_matrix_numpy(vectors: list[list[float]]) -> list[list[float]]:\n",
    "    vectors=np.array(vectors)\n",
    "    features,data_points=vectors.shape\n",
    "    means=np.mean(vectors,axis=1).reshape(-1,1)\n",
    "    vectors=vectors-means\n",
    "    covariance_matrix=vectors @ vectors.T\n",
    "    covariance_matrix/=(data_points-1)\n",
    "    return covariance_matrix.tolist()"
   ]
  },
  {
   "cell_type": "markdown",
   "id": "f6d2c2f8",
   "metadata": {},
   "source": [
    "**Question 2:** Solve linear equations using Jacobi algorithm\n",
    "\n",
    "Jacobi Algorithm is an iterative algorithm to solve linear equations\n",
    "Given a square matrix A(n equations, n unknowns) and a vector b, iteratively change an initialized vector x, so that\n",
    "\n",
    "$Ax=b$\n",
    "\n",
    "Algorithm\n",
    "1. Initialize x\n",
    "2. for each of n iterations update\n",
    "     \n",
    "     $x_i$ = (1/$A_i$$_i$) * ( $b_i$ - sum($A_i$$_j$ * $x_j$))\n",
    "\n",
    "**NOTE:**\n",
    "1. $b_i$ - sum($A_i$$_j$ * $x_j$) is basically b-Ax\n",
    "2. Although the method states rounding at every iteration, all test cases are only accepted if rounding is done at the end."
   ]
  },
  {
   "cell_type": "code",
   "execution_count": null,
   "id": "61b85ad3",
   "metadata": {},
   "outputs": [],
   "source": [
    "def solve_jacobi(A: np.ndarray, b: np.ndarray, n: int) -> list:\n",
    "    diag_a=np.diag(A)\n",
    "    non_diag_a=A-np.diag(diag_a)\n",
    "    x=np.zeros(len(b))\n",
    "    x_temp=np.zeros(len(b))\n",
    "    for _ in range(n):\n",
    "        x_temp = (b - (non_diag_a @ x)) / diag_a\n",
    "        x=x_temp.copy()\n",
    "    return np.round(x,4).tolist()"
   ]
  },
  {
   "cell_type": "markdown",
   "id": "460aef98",
   "metadata": {},
   "source": [
    "**Question 3:** TO BE CONTINUED"
   ]
  },
  {
   "cell_type": "code",
   "execution_count": null,
   "id": "564bb7d9",
   "metadata": {},
   "outputs": [],
   "source": [
    "points = [(1, 2), (1, 4), (1, 0), (10, 2), (10, 4), (10, 0)]\n",
    "k = 2\n",
    "initial_centroids = [(1, 1), (10, 1)]\n",
    "max_iterations = 10\n",
    "output: [(1, 2), (10, 2)]\n",
    "    \n",
    "def k_means_clustering(points: list[tuple[float, float]], k: int, initial_centroids: list[tuple[float, float]], max_iterations: int) -> list[tuple[float, float]]:\n",
    "    final_centroids=initial_centroids\n",
    "    groups=len(points)\n",
    "    for _ in range(max_iterations):\n",
    "        for i,point in enumerate(points):\n",
    "            groups[i]=np.argmin([((point[0]-centroid[0])**2)+((point[1]-centroid[1])**2) for centroid in initial__centroids])\n",
    "        for i in range(k):\n",
    "            \n",
    "    return final_centroids"
   ]
  }
 ],
 "metadata": {
  "kernelspec": {
   "display_name": "Python 3 (ipykernel)",
   "language": "python",
   "name": "python3"
  },
  "language_info": {
   "codemirror_mode": {
    "name": "ipython",
    "version": 3
   },
   "file_extension": ".py",
   "mimetype": "text/x-python",
   "name": "python",
   "nbconvert_exporter": "python",
   "pygments_lexer": "ipython3",
   "version": "3.9.13"
  }
 },
 "nbformat": 4,
 "nbformat_minor": 5
}
